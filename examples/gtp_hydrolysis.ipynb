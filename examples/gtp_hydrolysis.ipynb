{
 "cells": [
  {
   "cell_type": "markdown",
   "metadata": {},
   "source": [
    "# GTP Hydrolysis Kinetics\n",
    "\n",
    "Here, I use concentration and time units of µM and seconds, respectively. I assume an upper-limit of uncatalyzed GTP hydrolysis of 5e-5 per second. This rate corresponds to the intrinsic hydrolysis rate of Ran."
   ]
  },
  {
   "cell_type": "code",
   "execution_count": 3,
   "metadata": {},
   "outputs": [
    {
     "data": {
      "application/vnd.jupyter.widget-view+json": {
       "model_id": "b6adf921ef6c4b92b81cfdb8bdb194f8",
       "version_major": 2,
       "version_minor": 0
      },
      "text/plain": [
       "VBox(children=(FigureWidget({\n",
       "    'data': [{'name': 'Pi',\n",
       "              'type': 'scatter',\n",
       "              'uid'…"
      ]
     },
     "metadata": {},
     "output_type": "display_data"
    }
   ],
   "source": [
    "import sys\n",
    "sys.path.insert(0, '../')\n",
    "import numpy as np\n",
    "from kinetics_simulator.guis import ProgressCurveGUI, Slider\n",
    "from kinetics_simulator.chemicalkinetics import ChemicalReactionNetwork\n",
    "\n",
    "reaction_dict = {\n",
    "\n",
    "    'GTP -> GDP + Pi' : {'model': 'mass-action', 'rate-constants': 1e-5, 'rate-constant-names': 'k_hydr'},\n",
    "\n",
    "}\n",
    "\n",
    "# initial values\n",
    "initial_values = {'GTP': 800} \n",
    "reaction_network = ChemicalReactionNetwork(initial_values, reaction_dict, time=np.linspace(0,10000,2000))\n",
    "\n",
    "# define a set of sliders for rate constants and specie concentrations\n",
    "# see the definition of the Slider class in ./kinetics_simulator/guis.py\n",
    "# for a description of args and kwargs\n",
    "sliders = [\n",
    "    Slider('k_hydr', min=-10, max=-4, stepsize=1),\n",
    "    ]\n",
    "\n",
    "# set multithread to True for parallel computing\n",
    "figure = ProgressCurveGUI(reaction_network, sliders=sliders, multithread=True, title='GTP Hydrolysis')\n",
    "figure.interactive()"
   ]
  },
  {
   "cell_type": "code",
   "execution_count": null,
   "metadata": {},
   "outputs": [],
   "source": []
  }
 ],
 "metadata": {
  "kernelspec": {
   "display_name": "kinetics-simulator",
   "language": "python",
   "name": "python3"
  },
  "language_info": {
   "codemirror_mode": {
    "name": "ipython",
    "version": 3
   },
   "file_extension": ".py",
   "mimetype": "text/x-python",
   "name": "python",
   "nbconvert_exporter": "python",
   "pygments_lexer": "ipython3",
   "version": "3.9.12"
  },
  "orig_nbformat": 4
 },
 "nbformat": 4,
 "nbformat_minor": 2
}
