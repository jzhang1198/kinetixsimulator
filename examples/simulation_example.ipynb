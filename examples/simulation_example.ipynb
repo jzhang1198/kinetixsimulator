{
 "cells": [
  {
   "cell_type": "markdown",
   "metadata": {},
   "source": [
    "## Import packages"
   ]
  },
  {
   "cell_type": "code",
   "execution_count": null,
   "metadata": {},
   "outputs": [],
   "source": [
    "from kinetixsimulator.chemicalkinetics import KineticModel, Reaction, ReversibleReaction\n",
    "from kinetixsimulator.guis import ProgressCurveGUI\n",
    "from matplotlib import pyplot as plt\n",
    "import numpy as np"
   ]
  },
  {
   "cell_type": "markdown",
   "metadata": {},
   "source": [
    "## Construct a KineticModel Object and Set Initial Concentrations\n",
    "\n",
    "Constructing a `KineticModel` object requires a numpy array of timepoints and a mixed-type list containing objects from the following container classes: `Reaction`, `ReversibleReaction`, and/or `MMReaction`. The `Reaction` and `ReversibleReaction` reaction classes organize data for irreversible and reversible reactions. The `MMReaction` class organizes data for enzymatic reactions that obey the single substrate Michaelis-Menten equation. A more detailed discussion on usage of this class is provded in [Technical Notes](#technical-notes). Constructing reaction objects requires a string representation of the reaction scheme as well as the names/values of rate constants. When generating reaction strings, keep the following formatting rules in mind:\n",
    "1. Separate chemical species with a `+`\n",
    "2. Separate substrates and products with a `->` or `<->`\n",
    "3. Separate stoichiometric coefficients with a `*`\n",
    "4. Separate species and characters with a space\n",
    "\n",
    "Units of concentration and time can be designated by setting `concentration_units` and `time_units`, which default to µM and s.\n",
    "\n",
    "By default, initial concentrations of all species are set to zero. Initial concentrations can be manually set using the `set_initial_concentrations` method provided within the `KineticModel` class. "
   ]
  },
  {
   "cell_type": "code",
   "execution_count": null,
   "metadata": {},
   "outputs": [],
   "source": [
    "# create a list of reaction objects\n",
    "reactions = [\n",
    "    ReversibleReaction(reaction_string='E + S <-> E:S', rconst_names=['kon', 'koff'], rconst_values=[1e2, 1]),\n",
    "    Reaction(reaction_string='E:S -> E + P', rconst_name='kcat', rconst_value=5)\n",
    "]\n",
    "\n",
    "# create time array and construct the KineticModel object\n",
    "time = np.linspace(0, 1000, 1000)\n",
    "kinetic_model = KineticModel(time, reactions)\n",
    "\n",
    "# set initial concentrations\n",
    "kinetic_model.set_initial_concentration('E', 1e-3)\n",
    "kinetic_model.set_initial_concentration('S', 2)"
   ]
  },
  {
   "cell_type": "markdown",
   "metadata": {},
   "source": [
    "## Simulate and Plot\n",
    "\n",
    "Reaction kinetics can be simulated using the `simulate` method."
   ]
  },
  {
   "cell_type": "code",
   "execution_count": null,
   "metadata": {},
   "outputs": [],
   "source": [
    "# simulate kinetics given rate constants and initial concentrations defined above\n",
    "traces = kinetic_model.simulate(inplace=False)\n",
    "\n",
    "# plot the results\n",
    "fig, ax = plt.subplots()\n",
    "for specie_name, trace in zip(kinetic_model.species, traces):\n",
    "    ax.plot(kinetic_model.time, trace, label=specie_name)\n",
    "\n",
    "ax.set_xlabel(f'Time ({kinetic_model.time_units})')\n",
    "ax.set_ylabel(f'Concentration ({kinetic_model.concentration_units})')\n",
    "ax.legend()"
   ]
  },
  {
   "cell_type": "markdown",
   "metadata": {},
   "source": [
    "## Interactive Simulation\n",
    "\n",
    "To launch the interactive simulation dashboard, construct a `ProgressCurveGUI` object and call the `launch` method. By default, sliders enabling control of rate constant values and specie initial concentrations will be rendered with a set range. You can prevent the display of particular sliders and override default slider ranges by passing a `slider_config` dictionary to the `launch` method. If you would like to hide traces for certain chemical species by providing a `hidden_species` list to the `launch` method.\n",
    "\n",
    "Note that interactive simulation is only supported within the Jupyter environment (i.e. you can't run this outside of a Jupyter Notebook)."
   ]
  },
  {
   "cell_type": "code",
   "execution_count": null,
   "metadata": {},
   "outputs": [],
   "source": [
    "gui = ProgressCurveGUI()\n",
    "gui.launch(kinetic_model)"
   ]
  },
  {
   "cell_type": "markdown",
   "metadata": {},
   "source": [
    "## Technical Notes\n",
    "\n",
    "<a id=\"technical-notes\"></a>\n",
    "\n",
    "### Avoiding Un-Physical Solutions\n",
    "\n",
    "If your model contains rate constants or initial concentrations that are exceptionally large, you may observe un-physical solutions (i.e. negative concentrations for some species). This can be avoided by lowering the values of the `integrator_atol` and `integrator_rtol` optional arguments in the `KineticModel` constructor, which set the error tolerance of the numerical integration algorithm used in the `simulate` method. Decreasing the increment between timepoints may help resolve these issues.\n",
    "\n",
    "### Using the MMReaction Class\n",
    "\n",
    "The `MMReaction` class provides a more convenient means to organize data for enzymatic reactions that obey the single substrate Michaelis-Menten equation. A `MMReaction` object can be constructed as follows:\n",
    "\n",
    "```python\n",
    "reaction = MMReaction(reaction_string='E + S <-> E:S -> E + P', Km_name='Km', Km_value=1, kcat_name='kcat', kcat_value=1)\n",
    "```\n",
    "\n",
    "The reaction strings used to construct a `MMReaction` object must contain an equilibrium describing the substrate binding step and an irreversible reaction corresponding to the chemical step. Currently, the class only supports single substrate Michaelis-Menten mechanisms. If your enzyme follows a multi substrate Michaelis-Menten mechanism, you might consider simulating your system under conditions enabling simplification to a single substrate mechanism. \n",
    "\n",
    "A word of caution: during construction of the `KineticModel` object, values for microscopic rate constants (i.e. substrate association and dissociation rate constants) that are consistent with the provided steady-state constants will be selected arbitrarily. Keep this in mind when interpreting simulation results! "
   ]
  }
 ],
 "metadata": {
  "kernelspec": {
   "display_name": "base",
   "language": "python",
   "name": "python3"
  },
  "language_info": {
   "codemirror_mode": {
    "name": "ipython",
    "version": 3
   },
   "file_extension": ".py",
   "mimetype": "text/x-python",
   "name": "python",
   "nbconvert_exporter": "python",
   "pygments_lexer": "ipython3",
   "version": "3.9.12"
  },
  "orig_nbformat": 4
 },
 "nbformat": 4,
 "nbformat_minor": 2
}
