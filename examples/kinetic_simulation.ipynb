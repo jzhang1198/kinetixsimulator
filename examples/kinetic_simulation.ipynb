{
 "cells": [
  {
   "attachments": {},
   "cell_type": "markdown",
   "metadata": {},
   "source": [
    "# Simulation of Mass Action Kinetics\n",
    "This is an example notebook for interactive simulation of a user-defined chemical reaction network. "
   ]
  },
  {
   "attachments": {},
   "cell_type": "markdown",
   "metadata": {},
   "source": [
    "## Initializing a Chemical Reaction Network\n",
    "Below is an example enzymatic reaction modelled with mass action kinetics. Refer to the README for more detailed instruction on defining a chemical reaction network."
   ]
  },
  {
   "cell_type": "code",
   "execution_count": 1,
   "metadata": {},
   "outputs": [],
   "source": [
    "# define a reaction dictionary for reactions modeled with mass action kinetics\n",
    "# a reversible reaction may be defined with a \"<->\" character\n",
    "# the forward rate constant of a given reaction must be provided first in the ordered dictionary\n",
    "reaction_dict = {\n",
    "    'S + E <-> SE': {'kon': 100, 'koff': 1}, # binding of substrate to enzyme\n",
    "    'SE -> P + E': {'kchem': 100} # chemical step\n",
    "}\n",
    "\n",
    "reaction_dict = {\n",
    "    'S + E <-> SE': {'model': 'mass-action', 'rate-constants': [100 ,1], 'rate-constant-names': ['kon', 'koff']}, # binding of substrate to enzyme\n",
    "    'SE -> P + E': {'model': 'mass-action', 'rate-constants': 100, 'rate-constant-names': 'kchem'} # chemical step\n",
    "}\n",
    "\n",
    "# define an initial state for the system\n",
    "# if an initial value for a specie is not give, the code assigns it as zero\n",
    "initial_values = {'S': 1000, 'E': 0.1}\n",
    "\n",
    "# define a plotting dictionary\n",
    "plot_kwargs = {'title': 'Kinetic Simulation',\n",
    "                'fontsize': 12,\n",
    "                'figsize': (12,12),\n",
    "                'multithread': False, # turn on multithreading to leverage parallel processing\n",
    "                'tol': 1e-8, # tolerance for the numerical integrator\n",
    "                'S': {'min': 0, 'max': 1000, 'start': 1000, 'stepsize': 10}, # define a slider for the initial concentration of a specie\n",
    "                'kchem': {'min': 0, 'max': 200, 'start': 100, 'stepsize': 1}, # define a slider for a specific rate constant\n",
    "                'kon': {'min': 0, 'max': 100, 'start': 100, 'stepsize': 1}\n",
    "                }"
   ]
  },
  {
   "attachments": {},
   "cell_type": "markdown",
   "metadata": {},
   "source": [
    "## Launching the Interactive Dashboard"
   ]
  },
  {
   "cell_type": "code",
   "execution_count": 2,
   "metadata": {},
   "outputs": [
    {
     "ename": "AttributeError",
     "evalue": "'ProgressCurveGUI' object has no attribute 'plot_kwargs'",
     "output_type": "error",
     "traceback": [
      "\u001b[0;31m---------------------------------------------------------------------------\u001b[0m",
      "\u001b[0;31mAttributeError\u001b[0m                            Traceback (most recent call last)",
      "\u001b[0;32m<ipython-input-2-cb2caeff1a22>\u001b[0m in \u001b[0;36m<module>\u001b[0;34m\u001b[0m\n\u001b[1;32m      5\u001b[0m \u001b[0;34m\u001b[0m\u001b[0m\n\u001b[1;32m      6\u001b[0m \u001b[0mreaction_network\u001b[0m \u001b[0;34m=\u001b[0m \u001b[0mChemicalReactionNetwork\u001b[0m\u001b[0;34m(\u001b[0m\u001b[0minitial_values\u001b[0m\u001b[0;34m,\u001b[0m \u001b[0mreaction_dict\u001b[0m\u001b[0;34m)\u001b[0m\u001b[0;34m\u001b[0m\u001b[0;34m\u001b[0m\u001b[0m\n\u001b[0;32m----> 7\u001b[0;31m \u001b[0mfigure\u001b[0m \u001b[0;34m=\u001b[0m \u001b[0mProgressCurveGUI\u001b[0m\u001b[0;34m(\u001b[0m\u001b[0mreaction_network\u001b[0m\u001b[0;34m,\u001b[0m \u001b[0mplot_kwargs\u001b[0m\u001b[0;34m)\u001b[0m\u001b[0;34m\u001b[0m\u001b[0;34m\u001b[0m\u001b[0m\n\u001b[0m\u001b[1;32m      8\u001b[0m \u001b[0mfigure\u001b[0m\u001b[0;34m.\u001b[0m\u001b[0minteractive\u001b[0m\u001b[0;34m(\u001b[0m\u001b[0;34m)\u001b[0m\u001b[0;34m\u001b[0m\u001b[0;34m\u001b[0m\u001b[0m\n",
      "\u001b[0;32m~/Documents/ucsf/kortemme-pinney/repositories/kinetics_simulator/kinetics_simulator/guis.py\u001b[0m in \u001b[0;36m__init__\u001b[0;34m(self, chemical_reaction_network, figsize, title, fontsize, multithread, tol, sliders)\u001b[0m\n\u001b[1;32m     16\u001b[0m         \u001b[0mself\u001b[0m\u001b[0;34m.\u001b[0m\u001b[0mchemical_reaction_network\u001b[0m \u001b[0;34m=\u001b[0m \u001b[0mchemical_reaction_network\u001b[0m\u001b[0;34m\u001b[0m\u001b[0;34m\u001b[0m\u001b[0m\n\u001b[1;32m     17\u001b[0m         \u001b[0mself\u001b[0m\u001b[0;34m.\u001b[0m\u001b[0mfigsize\u001b[0m\u001b[0;34m,\u001b[0m \u001b[0mself\u001b[0m\u001b[0;34m.\u001b[0m\u001b[0mtitle\u001b[0m\u001b[0;34m,\u001b[0m \u001b[0mself\u001b[0m\u001b[0;34m.\u001b[0m\u001b[0mfontsize\u001b[0m\u001b[0;34m,\u001b[0m \u001b[0mself\u001b[0m\u001b[0;34m.\u001b[0m\u001b[0mmultithread\u001b[0m\u001b[0;34m,\u001b[0m \u001b[0mself\u001b[0m\u001b[0;34m.\u001b[0m\u001b[0mtol\u001b[0m\u001b[0;34m,\u001b[0m \u001b[0mself\u001b[0m\u001b[0;34m.\u001b[0m\u001b[0msliders\u001b[0m \u001b[0;34m=\u001b[0m \u001b[0mfigsize\u001b[0m\u001b[0;34m,\u001b[0m \u001b[0mtitle\u001b[0m\u001b[0;34m,\u001b[0m \u001b[0mfontsize\u001b[0m\u001b[0;34m,\u001b[0m \u001b[0mmultithread\u001b[0m\u001b[0;34m,\u001b[0m \u001b[0mtol\u001b[0m\u001b[0;34m,\u001b[0m \u001b[0msliders\u001b[0m\u001b[0;34m\u001b[0m\u001b[0;34m\u001b[0m\u001b[0m\n\u001b[0;32m---> 18\u001b[0;31m         \u001b[0mself\u001b[0m\u001b[0;34m.\u001b[0m\u001b[0mfig\u001b[0m \u001b[0;34m=\u001b[0m \u001b[0mself\u001b[0m\u001b[0;34m.\u001b[0m\u001b[0m_initialize_figure\u001b[0m\u001b[0;34m(\u001b[0m\u001b[0;34m)\u001b[0m\u001b[0;34m\u001b[0m\u001b[0;34m\u001b[0m\u001b[0m\n\u001b[0m\u001b[1;32m     19\u001b[0m \u001b[0;34m\u001b[0m\u001b[0m\n\u001b[1;32m     20\u001b[0m     \u001b[0;32mdef\u001b[0m \u001b[0m_get_data\u001b[0m\u001b[0;34m(\u001b[0m\u001b[0mself\u001b[0m\u001b[0;34m)\u001b[0m\u001b[0;34m:\u001b[0m\u001b[0;34m\u001b[0m\u001b[0;34m\u001b[0m\u001b[0m\n",
      "\u001b[0;32m~/Documents/ucsf/kortemme-pinney/repositories/kinetics_simulator/kinetics_simulator/guis.py\u001b[0m in \u001b[0;36m_initialize_figure\u001b[0;34m(self)\u001b[0m\n\u001b[1;32m     31\u001b[0m \u001b[0;34m\u001b[0m\u001b[0m\n\u001b[1;32m     32\u001b[0m     \u001b[0;32mdef\u001b[0m \u001b[0m_initialize_figure\u001b[0m\u001b[0;34m(\u001b[0m\u001b[0mself\u001b[0m\u001b[0;34m)\u001b[0m\u001b[0;34m:\u001b[0m\u001b[0;34m\u001b[0m\u001b[0;34m\u001b[0m\u001b[0m\n\u001b[0;32m---> 33\u001b[0;31m         \u001b[0mdata\u001b[0m \u001b[0;34m=\u001b[0m \u001b[0mself\u001b[0m\u001b[0;34m.\u001b[0m\u001b[0m_get_data\u001b[0m\u001b[0;34m(\u001b[0m\u001b[0;34m)\u001b[0m\u001b[0;34m\u001b[0m\u001b[0;34m\u001b[0m\u001b[0m\n\u001b[0m\u001b[1;32m     34\u001b[0m         \u001b[0mfig\u001b[0m \u001b[0;34m=\u001b[0m \u001b[0mgo\u001b[0m\u001b[0;34m.\u001b[0m\u001b[0mFigureWidget\u001b[0m\u001b[0;34m(\u001b[0m\u001b[0mdata\u001b[0m\u001b[0;34m=\u001b[0m\u001b[0mdata\u001b[0m\u001b[0;34m)\u001b[0m\u001b[0;34m\u001b[0m\u001b[0;34m\u001b[0m\u001b[0m\n\u001b[1;32m     35\u001b[0m         \u001b[0mfig\u001b[0m\u001b[0;34m.\u001b[0m\u001b[0mlayout\u001b[0m\u001b[0;34m.\u001b[0m\u001b[0mtitle\u001b[0m \u001b[0;34m=\u001b[0m \u001b[0mself\u001b[0m\u001b[0;34m.\u001b[0m\u001b[0mtitle\u001b[0m\u001b[0;34m\u001b[0m\u001b[0;34m\u001b[0m\u001b[0m\n",
      "\u001b[0;32m~/Documents/ucsf/kortemme-pinney/repositories/kinetics_simulator/kinetics_simulator/guis.py\u001b[0m in \u001b[0;36m_get_data\u001b[0;34m(self)\u001b[0m\n\u001b[1;32m     19\u001b[0m \u001b[0;34m\u001b[0m\u001b[0m\n\u001b[1;32m     20\u001b[0m     \u001b[0;32mdef\u001b[0m \u001b[0m_get_data\u001b[0m\u001b[0;34m(\u001b[0m\u001b[0mself\u001b[0m\u001b[0;34m)\u001b[0m\u001b[0;34m:\u001b[0m\u001b[0;34m\u001b[0m\u001b[0;34m\u001b[0m\u001b[0m\n\u001b[0;32m---> 21\u001b[0;31m         \u001b[0mself\u001b[0m\u001b[0;34m.\u001b[0m\u001b[0mchemical_reaction_network\u001b[0m\u001b[0;34m.\u001b[0m\u001b[0mintegrate\u001b[0m\u001b[0;34m(\u001b[0m\u001b[0mself\u001b[0m\u001b[0;34m.\u001b[0m\u001b[0mchemical_reaction_network\u001b[0m\u001b[0;34m.\u001b[0m\u001b[0minitial_concentrations\u001b[0m\u001b[0;34m,\u001b[0m \u001b[0mself\u001b[0m\u001b[0;34m.\u001b[0m\u001b[0mchemical_reaction_network\u001b[0m\u001b[0;34m.\u001b[0m\u001b[0mtime\u001b[0m\u001b[0;34m,\u001b[0m \u001b[0mrtol\u001b[0m\u001b[0;34m=\u001b[0m\u001b[0mself\u001b[0m\u001b[0;34m.\u001b[0m\u001b[0mplot_kwargs\u001b[0m\u001b[0;34m[\u001b[0m\u001b[0;34m'tol'\u001b[0m\u001b[0;34m]\u001b[0m\u001b[0;34m,\u001b[0m \u001b[0matol\u001b[0m\u001b[0;34m=\u001b[0m\u001b[0mself\u001b[0m\u001b[0;34m.\u001b[0m\u001b[0mplot_kwargs\u001b[0m\u001b[0;34m[\u001b[0m\u001b[0;34m'tol'\u001b[0m\u001b[0;34m]\u001b[0m\u001b[0;34m)\u001b[0m\u001b[0;34m\u001b[0m\u001b[0;34m\u001b[0m\u001b[0m\n\u001b[0m\u001b[1;32m     22\u001b[0m         \u001b[0mdata\u001b[0m \u001b[0;34m=\u001b[0m \u001b[0;34m[\u001b[0m\u001b[0;34m]\u001b[0m\u001b[0;34m\u001b[0m\u001b[0;34m\u001b[0m\u001b[0m\n\u001b[1;32m     23\u001b[0m         \u001b[0;32mfor\u001b[0m \u001b[0mspecie\u001b[0m\u001b[0;34m,\u001b[0m \u001b[0mconcentration\u001b[0m \u001b[0;32min\u001b[0m \u001b[0mzip\u001b[0m\u001b[0;34m(\u001b[0m\u001b[0mself\u001b[0m\u001b[0;34m.\u001b[0m\u001b[0mchemical_reaction_network\u001b[0m\u001b[0;34m.\u001b[0m\u001b[0mspecies\u001b[0m\u001b[0;34m,\u001b[0m \u001b[0mself\u001b[0m\u001b[0;34m.\u001b[0m\u001b[0mchemical_reaction_network\u001b[0m\u001b[0;34m.\u001b[0m\u001b[0mconcentrations\u001b[0m\u001b[0;34m)\u001b[0m\u001b[0;34m:\u001b[0m\u001b[0;34m\u001b[0m\u001b[0;34m\u001b[0m\u001b[0m\n",
      "\u001b[0;31mAttributeError\u001b[0m: 'ProgressCurveGUI' object has no attribute 'plot_kwargs'"
     ]
    }
   ],
   "source": [
    "import sys\n",
    "sys.path.insert(0, '../')\n",
    "from kinetics_simulator.guis import ProgressCurveGUI\n",
    "from kinetics_simulator.chemicalkinetics import ChemicalReactionNetwork\n",
    "\n",
    "reaction_network = ChemicalReactionNetwork(initial_values, reaction_dict)\n",
    "figure = ProgressCurveGUI(reaction_network, plot_kwargs)\n",
    "figure.interactive()"
   ]
  },
  {
   "attachments": {},
   "cell_type": "markdown",
   "metadata": {},
   "source": [
    "## Simulation Using Michaelis Menten Kinetics\n",
    "The above simulations were generated by defining and integrating the mass action kinetic equations for a given chemical reaction network. However, when dealing with enzymatic reactions, it is often times more convenient to use Michaelis Menten kinetic model. This model is built from mass action kinetics with a few simplifying assumptions. Below is an example containing two coupled reactions: an enzymatic reaction (modeled with Michaelis Menten kinetics) and a small molecule association reaction."
   ]
  },
  {
   "cell_type": "code",
   "execution_count": 9,
   "metadata": {},
   "outputs": [
    {
     "ename": "SyntaxError",
     "evalue": "invalid syntax (<ipython-input-9-e2b75055806e>, line 15)",
     "output_type": "error",
     "traceback": [
      "\u001b[0;36m  File \u001b[0;32m\"<ipython-input-9-e2b75055806e>\"\u001b[0;36m, line \u001b[0;32m15\u001b[0m\n\u001b[0;31m    'P + A <-> PA': {'model': 'michaelis-menten', 'rate-constants': },\u001b[0m\n\u001b[0m                                                                    ^\u001b[0m\n\u001b[0;31mSyntaxError\u001b[0m\u001b[0;31m:\u001b[0m invalid syntax\n"
     ]
    }
   ],
   "source": [
    "# define a reaction dictionary for reactions modeled with mass action kinetics\n",
    "# a reversible reaction may be defined with a \"<->\" character\n",
    "# the forward rate constant of a given reaction must be provided first in the ordered dictionary\n",
    "mass_action_dict = {\n",
    "    'P + A <-> PA': OrderedDict({'kon': 100, 'koff': 1}), \n",
    "}\n",
    "\n",
    "# define a dictionary for reactions modeled with Michaelis Menten kinetics\n",
    "michaelis_menten_dict = {\n",
    "    'S + E -> P + E': OrderedDict({'Km': 100, 'kcat': 10})\n",
    "}\n",
    "\n",
    "\n",
    "mass_action_dict = {\n",
    "    'P + A <-> PA': {'model': 'michaelis-menten', 'rate-constants': }, \n",
    "}\n",
    "\n",
    "# define a dictionary for reactions modeled with Michaelis Menten kinetics\n",
    "michaelis_menten_dict = {\n",
    "    'S + E -> P + E': OrderedDict({'Km': 100, 'kcat': 10})\n",
    "}\n",
    "\n",
    "# define an initial state for the system\n",
    "# if an initial value for a specie is not give, the code assigns it as zero\n",
    "initial_values = {'S': 1000, 'E': 0.1, 'A': 100}\n",
    "\n",
    "# define a plotting dictionary\n",
    "plot_kwargs = {'title': 'Kinetic Simulation',\n",
    "                'fontsize': 12,\n",
    "                'figsize': (12,12),\n",
    "                'multithread': False, # turn on multithreading to leverage parallel processing\n",
    "                'tol': 1e-8, # tolerance for the numerical integrator\n",
    "                'S': {'min': 0, 'max': 1000, 'start': 1000, 'stepsize': 10}, # define a slider for the initial concentration of a specie\n",
    "                'kon': {'min': 0, 'max': 100, 'start': 100, 'stepsize': 1}\n",
    "                }\n",
    "\n",
    "# launch dashboard\n",
    "reaction_network = ChemicalReactionNetwork(mass_action_dict, michaelis_menten_dict, initial_values, time, concentration_units, time_units)\n",
    "figure = ProgressCurveGUI(reaction_network, plot_kwargs)\n",
    "figure.interactive()"
   ]
  },
  {
   "attachments": {},
   "cell_type": "markdown",
   "metadata": {},
   "source": [
    "## Fitting a Simple Kinetic Model\n",
    "Below is an exmaple of how one can go about fitting a kinetic model using some methods inherent to the ChemicalReactionNetwork class. The fitting algorithm requires the following user-provided inputs: a kinetic model, a set of initial concentrations for each species, and progress curve data for each initial concentration. With the required inputs, "
   ]
  },
  {
   "cell_type": "code",
   "execution_count": 10,
   "metadata": {},
   "outputs": [],
   "source": [
    "import numpy as np\n",
    "\n",
    "reaction_dictionary = {\n",
    "    'A + B <-> C': {'model': 'mass-action', 'rate-constants': [0.001,0.002], 'rate-constant-names': ['k1', 'k-1']},\n",
    "}\n",
    "plot_kwargs = {'title': 'Test',\n",
    "                'fontsize': 12,\n",
    "                'figsize': (12,12),\n",
    "                'multithread': True, # turn on multithreading to leverage parallel processing\n",
    "                'tol': 1e-8, # tolerance for the numerical integrator\n",
    "                'A': {'min': 0, 'max': 1000, 'start': 100, 'stepsize': 1}\n",
    "                }\n",
    "\n",
    "initial_values = {'A': 100, 'B': 1000}\n",
    "rxn = ChemicalReactionNetwork(initial_values, reaction_dictionary, time=np.linspace(0,30,500))\n",
    "# result = rxn.fit(variable='A', observable='C', params=['k1', 'k-1'], fitting_concentrations=np.array([10, 50, 100, 500, 1000]))\n",
    "\n",
    "# # the value of k1 and k-1 respectively\n",
    "# print(result.x)"
   ]
  },
  {
   "cell_type": "code",
   "execution_count": 11,
   "metadata": {},
   "outputs": [
    {
     "data": {
      "application/vnd.jupyter.widget-view+json": {
       "model_id": "a2f31e1b094a435782d3e635d65815ae",
       "version_major": 2,
       "version_minor": 0
      },
      "text/plain": [
       "VBox(children=(FigureWidget({\n",
       "    'data': [{'name': 'B',\n",
       "              'type': 'scatter',\n",
       "              'uid':…"
      ]
     },
     "metadata": {},
     "output_type": "display_data"
    }
   ],
   "source": [
    "figure = ProgressCurveGUI(rxn, plot_kwargs)\n",
    "figure.interactive()"
   ]
  },
  {
   "attachments": {},
   "cell_type": "markdown",
   "metadata": {},
   "source": [
    "## Fitting a Kinetic Model with Input Data\n",
    "Below is an example of how one can fit a kinetic model with input experimental data. For this illustrative example, we will be using Purine Nucleoside Phosphorylase kinetic data."
   ]
  },
  {
   "cell_type": "code",
   "execution_count": 7,
   "metadata": {},
   "outputs": [],
   "source": [
    "import pandas as pd\n",
    "import numpy as np\n",
    "import sys\n",
    "sys.path.insert(0, '../')\n",
    "from kinetics_simulator.guis import ProgressCurveGUI\n",
    "from kinetics_simulator.chemicalkinetics import ChemicalReactionNetwork\n",
    "\n",
    "reaction_dictionary = {\n",
    "    'PNP + Pi <-> PNP:Pi': {'model': 'mass-action', 'rate-constants': [0.001,0.002], 'rate-constant-names': ['kon', 'koff']},\n",
    "    'PNP:Pi -> PNP + X': {'model': 'mass-action', 'rate-constants': 0.002, 'rate-constant-names': 'kcat'}\n",
    "}\n",
    "\n",
    "data = pd.read_csv('./PNP_data.csv')\n",
    "Pi_concens = [float(concen.split(' ')[0]) for concen in data.columns[1:-1]]\n",
    "time = data['time'].to_numpy()\n",
    "timecourse = data.iloc[:, 1:-1].to_numpy().T\n",
    "\n",
    "\n",
    "initial_values = {'PNP': 10e-3}\n",
    "rxn = ChemicalReactionNetwork(initial_values, reaction_dictionary, time=time)\n",
    "result = rxn.fit(variable='Pi', observable='X', params=['kon', 'koff', 'kcat'], fitting_concentrations=Pi_concens, ground_truth_data=timecourse)\n",
    "\n",
    "# # the value of k1 and k-1 respectively\n",
    "# print(result.x)"
   ]
  },
  {
   "cell_type": "code",
   "execution_count": 5,
   "metadata": {},
   "outputs": [
    {
     "data": {
      "text/plain": [
       "array([1.e-50, 1.e-50, 1.e-02, 1.e-50])"
      ]
     },
     "execution_count": 5,
     "metadata": {},
     "output_type": "execute_result"
    }
   ],
   "source": []
  }
 ],
 "metadata": {
  "kernelspec": {
   "display_name": "base",
   "language": "python",
   "name": "python3"
  },
  "language_info": {
   "codemirror_mode": {
    "name": "ipython",
    "version": 3
   },
   "file_extension": ".py",
   "mimetype": "text/x-python",
   "name": "python",
   "nbconvert_exporter": "python",
   "pygments_lexer": "ipython3",
   "version": "3.8.8"
  },
  "vscode": {
   "interpreter": {
    "hash": "40d3a090f54c6569ab1632332b64b2c03c39dcf918b08424e98f38b5ae0af88f"
   }
  }
 },
 "nbformat": 4,
 "nbformat_minor": 4
}
