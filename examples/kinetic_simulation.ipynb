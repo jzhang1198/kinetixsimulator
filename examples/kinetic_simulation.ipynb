{
 "cells": [
  {
   "attachments": {},
   "cell_type": "markdown",
   "metadata": {},
   "source": [
    "# Simulation of Mass Action Kinetics\n",
    "This is an example notebook for interactive simulation of a user-defined chemical reaction network. "
   ]
  },
  {
   "attachments": {},
   "cell_type": "markdown",
   "metadata": {},
   "source": [
    "## Initializing a Chemical Reaction Network\n",
    "Below is an example enzymatic reaction modelled with mass action kinetics. Refer to the README for more detailed instruction on defining a chemical reaction network."
   ]
  },
  {
   "cell_type": "code",
   "execution_count": 1,
   "metadata": {},
   "outputs": [
    {
     "data": {
      "application/vnd.jupyter.widget-view+json": {
       "model_id": "cc390e4fbeb5438592add798544d7a99",
       "version_major": 2,
       "version_minor": 0
      },
      "text/plain": [
       "VBox(children=(FigureWidget({\n",
       "    'data': [{'name': 'S',\n",
       "              'type': 'scatter',\n",
       "              'uid':…"
      ]
     },
     "metadata": {},
     "output_type": "display_data"
    }
   ],
   "source": [
    "import sys\n",
    "sys.path.insert(0, '../')\n",
    "import numpy as np\n",
    "from kinetics_simulator.guis import ProgressCurveGUI, Slider\n",
    "from kinetics_simulator.chemicalkinetics import ChemicalReactionNetwork\n",
    "\n",
    "# define a reaction dictionary for reactions modeled with mass action kinetics\n",
    "# a reversible reaction may be defined with a \"<->\" character\n",
    "# the forward rate constant of a given reaction must be provided first in the ordered dictionary\n",
    "reaction_dict = {\n",
    "    'S + E <-> SE': {'model': 'mass-action', 'rate-constants': [100 ,1], 'rate-constant-names': ['kon', 'koff']}, # binding of substrate to enzyme\n",
    "    'SE -> P + E': {'model': 'mass-action', 'rate-constants': 100, 'rate-constant-names': 'kchem'} # chemical step\n",
    "}\n",
    "\n",
    "# define an initial state for the system\n",
    "# if an initial value for a specie is not given, the code assigns it as zero\n",
    "initial_values = {'S': 1000, 'E': 0.1}\n",
    "reaction_network = ChemicalReactionNetwork(initial_values, reaction_dict, time=np.linspace(0,1000,1000))\n",
    "\n",
    "# define a set of sliders for rate constants and specie concentrations\n",
    "# see the definition of the Slider class in ./kinetics_simulator/guis.py\n",
    "# for a description of args and kwargs\n",
    "sliders = [\n",
    "    Slider('kon', min=-6, max=6, stepsize=1), \n",
    "    Slider('koff', min=-6, max=6, stepsize=1),\n",
    "    Slider('kchem', min=-6, max=6, stepsize=1),\n",
    "    Slider('S', min=-6, max=6, stepsize=1),\n",
    "    Slider('E', min=-6, max=6, stepsize=1),\n",
    "    ]\n",
    "\n",
    "# set multithread to True for parallel computing\n",
    "figure = ProgressCurveGUI(reaction_network, sliders=sliders, multithread=True, title='Michaelis Menten Kinetic Mechanism')\n",
    "figure.interactive()"
   ]
  },
  {
   "attachments": {},
   "cell_type": "markdown",
   "metadata": {},
   "source": [
    "## Fitting a Simple Kinetic Model\n",
    "Still in beta."
   ]
  },
  {
   "cell_type": "code",
   "execution_count": 10,
   "metadata": {},
   "outputs": [],
   "source": [
    "import numpy as np\n",
    "\n",
    "reaction_dictionary = {\n",
    "    'A + B <-> C': {'model': 'mass-action', 'rate-constants': [0.001,0.002], 'rate-constant-names': ['k1', 'k-1']},\n",
    "}\n",
    "plot_kwargs = {'title': 'Test',\n",
    "                'fontsize': 12,\n",
    "                'figsize': (12,12),\n",
    "                'multithread': True, # turn on multithreading to leverage parallel processing\n",
    "                'tol': 1e-8, # tolerance for the numerical integrator\n",
    "                'A': {'min': 0, 'max': 1000, 'start': 100, 'stepsize': 1}\n",
    "                }\n",
    "\n",
    "initial_values = {'A': 100, 'B': 1000}\n",
    "rxn = ChemicalReactionNetwork(initial_values, reaction_dictionary, time=np.linspace(0,30,500))\n",
    "# result = rxn.fit(variable='A', observable='C', params=['k1', 'k-1'], fitting_concentrations=np.array([10, 50, 100, 500, 1000]))\n",
    "\n",
    "# # the value of k1 and k-1 respectively\n",
    "# print(result.x)"
   ]
  },
  {
   "attachments": {},
   "cell_type": "markdown",
   "metadata": {},
   "source": [
    "## Fitting a Kinetic Model with Input Data\n",
    "Still in beta."
   ]
  },
  {
   "cell_type": "code",
   "execution_count": 7,
   "metadata": {},
   "outputs": [],
   "source": [
    "import pandas as pd\n",
    "import numpy as np\n",
    "import sys\n",
    "sys.path.insert(0, '../')\n",
    "from kinetics_simulator.guis import ProgressCurveGUI\n",
    "from kinetics_simulator.chemicalkinetics import ChemicalReactionNetwork\n",
    "\n",
    "reaction_dictionary = {\n",
    "    'PNP + Pi <-> PNP:Pi': {'model': 'mass-action', 'rate-constants': [0.001,0.002], 'rate-constant-names': ['kon', 'koff']},\n",
    "    'PNP:Pi -> PNP + X': {'model': 'mass-action', 'rate-constants': 0.002, 'rate-constant-names': 'kcat'}\n",
    "}\n",
    "\n",
    "data = pd.read_csv('./PNP_data.csv')\n",
    "Pi_concens = [float(concen.split(' ')[0]) for concen in data.columns[1:-1]]\n",
    "time = data['time'].to_numpy()\n",
    "timecourse = data.iloc[:, 1:-1].to_numpy().T\n",
    "\n",
    "\n",
    "initial_values = {'PNP': 10e-3}\n",
    "rxn = ChemicalReactionNetwork(initial_values, reaction_dictionary, time=time)\n",
    "result = rxn.fit(variable='Pi', observable='X', params=['kon', 'koff', 'kcat'], fitting_concentrations=Pi_concens, ground_truth_data=timecourse)\n",
    "\n",
    "# # the value of k1 and k-1 respectively\n",
    "# print(result.x)"
   ]
  }
 ],
 "metadata": {
  "kernelspec": {
   "display_name": "base",
   "language": "python",
   "name": "python3"
  },
  "language_info": {
   "codemirror_mode": {
    "name": "ipython",
    "version": 3
   },
   "file_extension": ".py",
   "mimetype": "text/x-python",
   "name": "python",
   "nbconvert_exporter": "python",
   "pygments_lexer": "ipython3",
   "version": "3.8.8"
  },
  "vscode": {
   "interpreter": {
    "hash": "40d3a090f54c6569ab1632332b64b2c03c39dcf918b08424e98f38b5ae0af88f"
   }
  }
 },
 "nbformat": 4,
 "nbformat_minor": 4
}
