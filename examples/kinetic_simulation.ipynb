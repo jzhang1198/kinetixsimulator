{
 "cells": [
  {
   "attachments": {},
   "cell_type": "markdown",
   "metadata": {},
   "source": [
    "# Simulation of Mass Action Kinetics\n",
    "This is an example notebook for interactive simulation of a user-defined chemical reaction network. "
   ]
  },
  {
   "cell_type": "code",
   "execution_count": null,
   "metadata": {},
   "outputs": [],
   "source": [
    "import sys\n",
    "sys.path.insert(0, '../')\n",
    "import numpy as np\n",
    "from kinetics_simulator.guis import ProgressCurveGUI, Slider\n",
    "from kinetics_simulator.chemicalkinetics import ChemicalReactionNetwork\n",
    "\n",
    "# define a reaction dictionary for reactions modeled with mass action kinetics\n",
    "# a reversible reaction may be defined with a \"<->\" character\n",
    "# the forward rate constant of a given reaction must be provided first in the ordered dictionary\n",
    "reaction_dict = {\n",
    "    'S + E <-> SE': {'model': 'mass-action', 'rate-constants': [100 ,1], 'rate-constant-names': ['kon', 'koff']}, # binding of substrate to enzyme\n",
    "    'SE -> P + E': {'model': 'mass-action', 'rate-constants': 100, 'rate-constant-names': 'kchem'} # chemical step\n",
    "}\n",
    "\n",
    "# define an initial state for the system\n",
    "# if an initial value for a specie is not given, the code assigns it as zero\n",
    "initial_values = {'S': 1000, 'E': 0.1}\n",
    "reaction_network = ChemicalReactionNetwork(initial_values, reaction_dict, time=np.linspace(0,1000,10000))\n",
    "\n",
    "# define a set of sliders for rate constants and specie concentrations\n",
    "# see the definition of the Slider class in ./kinetics_simulator/guis.py\n",
    "# for a description of args and kwargs\n",
    "sliders = [\n",
    "    Slider('kon', min=-6, max=6, stepsize=1), \n",
    "    Slider('koff', min=-6, max=6, stepsize=1),\n",
    "    Slider('kchem', min=-6, max=6, stepsize=1),\n",
    "    Slider('S', min=-6, max=6, stepsize=1),\n",
    "    Slider('E', min=-6, max=6, stepsize=1),\n",
    "    ]\n",
    "\n",
    "# set multithread to True for parallel computing\n",
    "figure = ProgressCurveGUI(reaction_network, sliders=sliders, multithread=True, title='Michaelis Menten Kinetic Mechanism')\n",
    "figure.interactive()"
   ]
  },
  {
   "cell_type": "code",
   "execution_count": 6,
   "metadata": {},
   "outputs": [
    {
     "data": {
      "application/vnd.jupyter.widget-view+json": {
       "model_id": "e321753b1a05481ca6dbf10d3d7abe46",
       "version_major": 2,
       "version_minor": 0
      },
      "text/plain": [
       "VBox(children=(FigureWidget({\n",
       "    'data': [{'name': 'SE',\n",
       "              'type': 'scatter',\n",
       "              'uid'…"
      ]
     },
     "metadata": {},
     "output_type": "display_data"
    }
   ],
   "source": [
    "import sys\n",
    "sys.path.insert(0, '../')\n",
    "import numpy as np\n",
    "from kinetics_simulator.guis import ProgressCurveGUI, Slider\n",
    "from kinetics_simulator.chemicalkinetics import ChemicalReactionNetwork\n",
    "\n",
    "# define a reaction dictionary for reactions modeled with mass action kinetics\n",
    "# a reversible reaction may be defined with a \"<->\" character\n",
    "# the forward rate constant of a given reaction must be provided first in the ordered dictionary\n",
    "reaction_dict = {\n",
    "    'S + E <-> SE': {'model': 'mass-action', 'rate-constants': [999 ,1000], 'rate-constant-names': ['kon', 'koff']}, # binding of substrate to enzyme\n",
    "    'SE -> P + E': {'model': 'mass-action', 'rate-constants': 1, 'rate-constant-names': 'kchem'} # chemical step\n",
    "}\n",
    "\n",
    "# define an initial state for the system\n",
    "# if an initial value for a specie is not given, the code assigns it as zero\n",
    "initial_values = {'S': 1000, 'E': 0.1}\n",
    "reaction_network = ChemicalReactionNetwork(initial_values, reaction_dict, time=np.linspace(0,1000,10000))\n",
    "\n",
    "# define a set of sliders for rate constants and specie concentrations\n",
    "# see the definition of the Slider class in ./kinetics_simulator/guis.py\n",
    "# for a description of args and kwargs\n",
    "sliders = [\n",
    "    Slider('E', min=1e-3, max=1e-1, stepsize=1e-3, scale='linear'),\n",
    "    ]\n",
    "\n",
    "# set multithread to True for parallel computing\n",
    "figure = ProgressCurveGUI(reaction_network, sliders=sliders, multithread=True, title='Michaelis Menten Kinetic Mechanism')\n",
    "figure.interactive()"
   ]
  }
 ],
 "metadata": {
  "kernelspec": {
   "display_name": "kinetics-simulator",
   "language": "python",
   "name": "python3"
  },
  "language_info": {
   "codemirror_mode": {
    "name": "ipython",
    "version": 3
   },
   "file_extension": ".py",
   "mimetype": "text/x-python",
   "name": "python",
   "nbconvert_exporter": "python",
   "pygments_lexer": "ipython3",
   "version": "3.9.12"
  },
  "vscode": {
   "interpreter": {
    "hash": "2f663cbc6a68c13cdc9e734958112fc0ece951c73bb900f697f194e77e650ef5"
   }
  }
 },
 "nbformat": 4,
 "nbformat_minor": 4
}
