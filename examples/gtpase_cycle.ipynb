{
 "cells": [
  {
   "cell_type": "markdown",
   "metadata": {},
   "source": [
    "# Kinetic Mechanism for the GTPase Switch Cycle\n",
    "\n",
    "Key assumptions of the model:\n",
    "1. Saturating GTP for the GEF-catalyzed exchange reaction. Enables simplification of the two-substrate to a single substrate Michaelis Menten mechanism.\n",
    "2. The concentration of free GTP is much greater than that of free GDP. Ensures unidirectionality of the exchange reaction.\n",
    "3. Binding reactions all have diffusion-limited on-rates (enables calculation of off-rates from equilibrium binding constants). On-rate constants were assumed to be approximately \n",
    "\n",
    "Here, I use M as the unit of concentration and seconds as the unit of time."
   ]
  },
  {
   "cell_type": "code",
   "execution_count": 1,
   "metadata": {},
   "outputs": [
    {
     "data": {
      "application/vnd.jupyter.widget-view+json": {
       "model_id": "1ed79b880ed34b6381b580df84e202fa",
       "version_major": 2,
       "version_minor": 0
      },
      "text/plain": [
       "VBox(children=(FigureWidget({\n",
       "    'data': [{'name': 'GEF',\n",
       "              'type': 'scatter',\n",
       "              'uid…"
      ]
     },
     "metadata": {},
     "output_type": "display_data"
    }
   ],
   "source": [
    "import sys\n",
    "sys.path.insert(0, '../')\n",
    "import numpy as np\n",
    "from kinetics_simulator.guis import ProgressCurveGUI, Slider\n",
    "from kinetics_simulator.chemicalkinetics import ChemicalReactionNetwork\n",
    "\n",
    "reaction_dict = {\n",
    "\n",
    "    'Gsp1:GDP + GEF <-> GEF:Gsp1:GDP': {'model': 'mass-action', 'rate-constants': [1e3 ,1e3], 'rate-constant-names': ['kon_GEF_GDP', 'koff_GEF_GDP']},\n",
    "    'GEF:Gsp1:GDP -> Gsp1:GTP + GEF + GDP' : {'model': 'mass-action', 'rate-constants': 1, 'rate-constant-names': 'kcat_GEF'},\n",
    "    'Gsp1:GTP + GEF <-> GEF:Gsp1:GTP' : {'model': 'mass-action', 'rate-constants': [1e3 ,1e3], 'rate-constant-names': ['kon_GEF_GTP', 'koff_GEF_GTP']},\n",
    "\n",
    "    'GAP + Gsp1:GTP <-> GAP:Gsp1:GTP': {'model': 'mass-action', 'rate-constants': [1e3 ,1e3], 'rate-constant-names': ['kon_GEF_GTP', 'koff_GEF_GTP']},\n",
    "    'GAP:Gsp1:GTP -> Gsp1:GDP + Pi + GAP': {'model': 'mass-action', 'rate-constants': 10, 'rate-constant-names': 'kcat_GAP'},\n",
    "\n",
    "\n",
    "}\n",
    "\n",
    "# initial values\n",
    "initial_values = {'Gsp1:GDP': 0.5, 'GEF': 0.01, 'GAP': 1}\n",
    "reaction_network = ChemicalReactionNetwork(initial_values, reaction_dict, time=np.linspace(0,1000,2000))\n",
    "\n",
    "# define a set of sliders for rate constants and specie concentrations\n",
    "# see the definition of the Slider class in ./kinetics_simulator/guis.py\n",
    "# for a description of args and kwargs\n",
    "sliders = [\n",
    "    Slider('Gsp1:GDP', min=-6, max=6, stepsize=1),\n",
    "    Slider('GAP', min=-6, max=6, stepsize=1),\n",
    "    Slider('GEF', min=-6, max=6, stepsize=1),\n",
    "    ]\n",
    "\n",
    "# set multithread to True for parallel computing\n",
    "figure = ProgressCurveGUI(reaction_network, sliders=sliders, multithread=True, title='GTPase Switch Cycle')\n",
    "figure.interactive()"
   ]
  },
  {
   "cell_type": "code",
   "execution_count": null,
   "metadata": {},
   "outputs": [],
   "source": []
  }
 ],
 "metadata": {
  "kernelspec": {
   "display_name": "kinetics-simulator",
   "language": "python",
   "name": "python3"
  },
  "language_info": {
   "codemirror_mode": {
    "name": "ipython",
    "version": 3
   },
   "file_extension": ".py",
   "mimetype": "text/x-python",
   "name": "python",
   "nbconvert_exporter": "python",
   "pygments_lexer": "ipython3",
   "version": "3.9.12"
  },
  "orig_nbformat": 4
 },
 "nbformat": 4,
 "nbformat_minor": 2
}
