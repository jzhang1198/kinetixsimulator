{
 "cells": [
  {
   "cell_type": "code",
   "execution_count": 1,
   "metadata": {},
   "outputs": [
    {
     "data": {
      "application/vnd.jupyter.widget-view+json": {
       "model_id": "b77e91e1ff7a4c1d8247f275b1b783c0",
       "version_major": 2,
       "version_minor": 0
      },
      "text/plain": [
       "VBox(children=(FigureWidget({\n",
       "    'data': [{'name': '+0 µM',\n",
       "              'type': 'scatter',\n",
       "              'u…"
      ]
     },
     "execution_count": 1,
     "metadata": {},
     "output_type": "execute_result"
    }
   ],
   "source": [
    "import sys\n",
    "sys.path.insert(0, '../')\n",
    "import numpy as np\n",
    "from kinetics_simulator.guis import BindingIsothermGUI, Slider\n",
    "from kinetics_simulator.chemicalkinetics import BindingReaction\n",
    "\n",
    "reaction_dictionary = {\n",
    "    'P + L <-> P:L': {'model': 'mass-action', 'rate-constants': [10e-2, 10e0], 'rate-constant-names': ['kon', 'koff']},\n",
    "}\n",
    "initial_values = {'P': 1e-1, 'L': 1000}\n",
    "rxn = BindingReaction(initial_values, reaction_dictionary, limiting_species='P', ligand='L', equilibtration_time=100, ligand_concentrations=np.insert(np.logspace(-3, 3, 10), 0, 0))\n",
    "\n",
    "\n",
    "sliders = [\n",
    "    Slider('kon', min=-6, max=6, stepsize=1, continuous_update=False), \n",
    "    Slider('koff', min=-6, max=6, stepsize=1, continuous_update=False),\n",
    "    Slider('P', min=-6, max=6, stepsize=1, continuous_update=False)\n",
    "    ]\n",
    "figure = BindingIsothermGUI(rxn, sliders=sliders)\n",
    "figure.interactive()"
   ]
  },
  {
   "cell_type": "code",
   "execution_count": null,
   "metadata": {},
   "outputs": [],
   "source": []
  }
 ],
 "metadata": {
  "kernelspec": {
   "display_name": "kinetics-simulator",
   "language": "python",
   "name": "python3"
  },
  "language_info": {
   "codemirror_mode": {
    "name": "ipython",
    "version": 3
   },
   "file_extension": ".py",
   "mimetype": "text/x-python",
   "name": "python",
   "nbconvert_exporter": "python",
   "pygments_lexer": "ipython3",
   "version": "3.9.12"
  },
  "orig_nbformat": 4,
  "vscode": {
   "interpreter": {
    "hash": "2f663cbc6a68c13cdc9e734958112fc0ece951c73bb900f697f194e77e650ef5"
   }
  }
 },
 "nbformat": 4,
 "nbformat_minor": 2
}
