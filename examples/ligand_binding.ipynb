{
 "cells": [
  {
   "cell_type": "code",
   "execution_count": 1,
   "metadata": {},
   "outputs": [
    {
     "data": {
      "application/vnd.jupyter.widget-view+json": {
       "model_id": "650054661dc646fc8321020f262ae7fb",
       "version_major": 2,
       "version_minor": 0
      },
      "text/plain": [
       "VBox(children=(FigureWidget({\n",
       "    'data': [{'name': '+0 µM',\n",
       "              'type': 'scatter',\n",
       "              'u…"
      ]
     },
     "metadata": {},
     "output_type": "display_data"
    }
   ],
   "source": [
    "import sys\n",
    "sys.path.insert(0, '../')\n",
    "from kinetics_simulator.guis import BindingIsothermGUI, Slider\n",
    "from kinetics_simulator.chemicalkinetics import BindingReaction\n",
    "\n",
    "import numpy as np\n",
    "\n",
    "reaction_dictionary = {\n",
    "    'P + L <-> P:L': {'model': 'mass-action', 'rate-constants': [10e-2, 10e0], 'rate-constant-names': ['kon', 'koff']},\n",
    "}\n",
    "initial_values = {'P': 1e-1, 'L': 1000}\n",
    "rxn = BindingReaction(initial_values, reaction_dictionary, limiting_species='P', ligand='L', equilibtration_time=100, ligand_concentrations=np.insert(np.logspace(-3, 3, 10), 0, 0))\n",
    "\n",
    "sliders = [\n",
    "    Slider('kon', min=-6, max=6, stepsize=1, continuous_update=False), \n",
    "    Slider('koff', min=-6, max=6, stepsize=1, continuous_update=False),\n",
    "    Slider('P', min=-6, max=6, stepsize=1, continuous_update=False)\n",
    "    ]\n",
    "figure = BindingIsothermGUI(rxn, sliders=sliders)\n",
    "figure.interactive()"
   ]
  }
 ],
 "metadata": {
  "kernelspec": {
   "display_name": "base",
   "language": "python",
   "name": "python3"
  },
  "language_info": {
   "codemirror_mode": {
    "name": "ipython",
    "version": 3
   },
   "file_extension": ".py",
   "mimetype": "text/x-python",
   "name": "python",
   "nbconvert_exporter": "python",
   "pygments_lexer": "ipython3",
   "version": "3.8.8"
  },
  "orig_nbformat": 4,
  "vscode": {
   "interpreter": {
    "hash": "40d3a090f54c6569ab1632332b64b2c03c39dcf918b08424e98f38b5ae0af88f"
   }
  }
 },
 "nbformat": 4,
 "nbformat_minor": 2
}
